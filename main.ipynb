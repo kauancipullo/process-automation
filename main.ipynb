{
 "cells": [
  {
   "cell_type": "markdown",
   "metadata": {},
   "source": [
    "### STEP 1 - Import Libraries"
   ]
  },
  {
   "cell_type": "code",
   "execution_count": 1,
   "metadata": {},
   "outputs": [],
   "source": [
    "#import library\n",
    "import pandas as pd\n",
    "import pathlib\n",
    "import win32com.client as win32"
   ]
  },
  {
   "cell_type": "code",
   "execution_count": 2,
   "metadata": {},
   "outputs": [],
   "source": [
    "#import database\n",
    "emails = pd.read_excel(r\"data\\Emails.xlsx\")\n",
    "stores = pd.read_csv(r\"data\\Lojas.csv\", encoding=\"latin1\", sep=\";\")\n",
    "sales = pd.read_excel(r\"data\\Vendas.xlsx\")"
   ]
  },
  {
   "cell_type": "markdown",
   "metadata": {},
   "source": [
    "### Step 2 - Create a Table for each Store and Define the Indicator day and Goals"
   ]
  },
  {
   "cell_type": "code",
   "execution_count": 3,
   "metadata": {},
   "outputs": [],
   "source": [
    "#include the store name in sales database\n",
    "sales = sales.merge(stores, on='ID Loja')"
   ]
  },
  {
   "cell_type": "code",
   "execution_count": 4,
   "metadata": {},
   "outputs": [],
   "source": [
    "#create a dataFrame for each store\n",
    "dic_stores = {}\n",
    "for store in stores['Loja']:\n",
    "    dic_stores[store] = sales.loc[sales['Loja']==store, :]"
   ]
  },
  {
   "cell_type": "code",
   "execution_count": 5,
   "metadata": {},
   "outputs": [
    {
     "name": "stdout",
     "output_type": "stream",
     "text": [
      "2019-12-26 00:00:00\n",
      "26/12\n"
     ]
    }
   ],
   "source": [
    "#set indicator day\n",
    "indicator_day = sales['Data'].max()\n",
    "print(indicator_day)\n",
    "print(f'{indicator_day.day}/{indicator_day.month}')"
   ]
  },
  {
   "cell_type": "code",
   "execution_count": 6,
   "metadata": {},
   "outputs": [],
   "source": [
    "#goal setting\n",
    "revenue_target_day = 1000\n",
    "revenue_target_year = 1650000\n",
    "product_target_day = 4\n",
    "product_target_year = 120\n",
    "average_ticket_target_day = 500\n",
    "average_ticket_target_year = 500"
   ]
  },
  {
   "cell_type": "markdown",
   "metadata": {},
   "source": [
    "### Step 3 - Create a backup dataframe for each store"
   ]
  },
  {
   "cell_type": "code",
   "execution_count": 7,
   "metadata": {},
   "outputs": [],
   "source": [
    "#Identify if backup file and folder for each store exists already\n",
    "backup_path = pathlib.Path(r\"backup\")\n",
    "\n",
    "backup_folder_files = backup_path.iterdir()\n",
    "backup_names_list = [file.name for file in backup_folder_files]\n",
    "\n",
    "#Create a backup folder for each store\n",
    "for store in dic_stores:\n",
    "    if store not in backup_names_list:\n",
    "        new_folder = backup_path / store\n",
    "        new_folder.mkdir()\n",
    "        \n",
    "    #save the store dataframe in folder\n",
    "    file_name = f\"{indicator_day.month}_{indicator_day.day}_{store}.xlsx\"\n",
    "    file_path = backup_path / store / file_name\n",
    "        \n",
    "    dic_stores[store].to_excel(file_path)"
   ]
  },
  {
   "cell_type": "markdown",
   "metadata": {},
   "source": [
    "### Step 4 - Calculate the indicators for each store and send the One Note to each manager."
   ]
  },
  {
   "cell_type": "code",
   "execution_count": 8,
   "metadata": {},
   "outputs": [
    {
     "name": "stdout",
     "output_type": "stream",
     "text": [
      "O E-mail da loja Iguatemi Esplanada foi enviado com sucesso.\n",
      "O E-mail da loja Shopping Midway Mall foi enviado com sucesso.\n",
      "O E-mail da loja Norte Shopping foi enviado com sucesso.\n",
      "O E-mail da loja Shopping Iguatemi Fortaleza foi enviado com sucesso.\n",
      "O E-mail da loja Shopping União de Osasco foi enviado com sucesso.\n",
      "O E-mail da loja Shopping Center Interlagos foi enviado com sucesso.\n",
      "O E-mail da loja Rio Mar Recife foi enviado com sucesso.\n",
      "O E-mail da loja Salvador Shopping foi enviado com sucesso.\n",
      "O E-mail da loja Rio Mar Shopping Fortaleza foi enviado com sucesso.\n",
      "O E-mail da loja Shopping Center Leste Aricanduva foi enviado com sucesso.\n",
      "O E-mail da loja Ribeirão Shopping foi enviado com sucesso.\n",
      "O E-mail da loja Shopping Morumbi foi enviado com sucesso.\n",
      "O E-mail da loja Parque Dom Pedro Shopping foi enviado com sucesso.\n",
      "O E-mail da loja Bourbon Shopping SP foi enviado com sucesso.\n",
      "O E-mail da loja Palladium Shopping Curitiba foi enviado com sucesso.\n",
      "O E-mail da loja Passei das Águas Shopping foi enviado com sucesso.\n",
      "O E-mail da loja Center Shopping Uberlândia foi enviado com sucesso.\n",
      "O E-mail da loja Shopping Recife foi enviado com sucesso.\n",
      "O E-mail da loja Shopping Vila Velha foi enviado com sucesso.\n",
      "O E-mail da loja Shopping SP Market foi enviado com sucesso.\n",
      "O E-mail da loja Shopping Eldorado foi enviado com sucesso.\n",
      "O E-mail da loja Shopping Ibirapuera foi enviado com sucesso.\n",
      "O E-mail da loja Novo Shopping Ribeirão Preto foi enviado com sucesso.\n",
      "O E-mail da loja Iguatemi Campinas foi enviado com sucesso.\n",
      "O E-mail da loja Shopping Barra foi enviado com sucesso.\n"
     ]
    }
   ],
   "source": [
    "for store in dic_stores:\n",
    "    store_sales = dic_stores[store]\n",
    "    store_sales_day = store_sales.loc[store_sales[\"Data\"]==indicator_day, :]\n",
    "\n",
    "    #revenues\n",
    "    revenue_year = store_sales[\"Valor Final\"].sum()\n",
    "    revenue_day = store_sales_day[\"Valor Final\"].sum()\n",
    "\n",
    "    #product diversity\n",
    "    product_amount_year = len(store_sales[\"Produto\"].unique())\n",
    "    product_amount_day = len(store_sales_day[\"Produto\"].unique())\n",
    "\n",
    "    #average ticket\n",
    "    sell_price_year = store_sales.groupby(\"Código Venda\").sum(numeric_only=True)\n",
    "    average_ticket_year = sell_price_year[\"Valor Final\"].mean()\n",
    "\n",
    "    sell_price_day = store_sales_day.groupby(\"Código Venda\").sum(numeric_only=True)\n",
    "    average_ticket_day = sell_price_day[\"Valor Final\"].mean()\n",
    "    \n",
    "    #send the email\n",
    "    outlook = win32.Dispatch(\"outlook.application\")\n",
    "    manager_name = emails.loc[emails['Loja']==store, 'Gerente'].values[0]\n",
    "    mail = outlook.CreateItem(0)\n",
    "    mail.To = emails.loc[emails['Loja']==store, \"E-mail\"].values[0]\n",
    "    mail.Subject = f'OnePage Dia {indicator_day.day}/{indicator_day.month} - Loja {store}'\n",
    "\n",
    "    if revenue_day >= revenue_target_day:\n",
    "        revenue_day_color = 'green'\n",
    "    else:\n",
    "        revenue_day_color = 'red'\n",
    "\n",
    "    if product_amount_day >= product_target_day:\n",
    "        amount_day_color = 'green'\n",
    "    else:\n",
    "        amount_day_color = 'red'\n",
    "\n",
    "    if average_ticket_day >= average_ticket_day:\n",
    "        ticket_day_color = 'green'\n",
    "    else:\n",
    "        ticket_day_color = 'red'\n",
    "\n",
    "    if revenue_year >= revenue_target_year:\n",
    "        revenue_year_color = 'green'\n",
    "    else: \n",
    "        revenue_year_color = 'red'\n",
    "\n",
    "    if product_amount_year >= product_target_year:\n",
    "        amount_year_color = 'green'\n",
    "    else:\n",
    "        amount_year_color = 'red'\n",
    "\n",
    "    if average_ticket_year >= average_ticket_year:\n",
    "        ticket_year_color = 'green'\n",
    "    else:\n",
    "        ticket_year_color = 'red'\n",
    "\n",
    "\n",
    "    mail.HTMLBody = f'''\n",
    "    <p>Bom dia, {manager_name}.</p>\n",
    "\n",
    "    <p>O resultado de ontem <strong>{indicator_day.day}/{indicator_day.month}</strong> da <strong>Loja {store}</strong> foi:</p>\n",
    "\n",
    "    <table>\n",
    "      <tr>\n",
    "        <th>Indicador</th>\n",
    "        <th>Valor Dia</th>\n",
    "        <th>Meta Dia</th>\n",
    "        <th>Cenário Dia</th>\n",
    "      </tr>\n",
    "      <tr>\n",
    "        <td>Faturamento</td>\n",
    "        <td style=\"text-align: center\">R${revenue_day:.2f}</td>\n",
    "        <td style=\"text-align: center\">R${revenue_target_day:.2f}</td>\n",
    "        <td style=\"text-align: center\"><font color={revenue_day_color}>◙</font></td>\n",
    "      </tr>\n",
    "      <tr>\n",
    "        <td>Diversidade dos Produtos</td>\n",
    "        <td style=\"text-align: center\">{product_amount_day}</td>\n",
    "        <td style=\"text-align: center\">{product_target_day}</td>\n",
    "        <td style=\"text-align: center\"><font color={amount_day_color}>◙</font></td>\n",
    "      </tr>\n",
    "      <tr>\n",
    "        <td>Ticket Médio</td>\n",
    "        <td style=\"text-align: center\">R${average_ticket_day:.2f}</td>\n",
    "        <td style=\"text-align: center\">R${average_ticket_target_day:.2f}</td>\n",
    "        <td style=\"text-align: center\"><font color={ticket_day_color}>◙</font></td>\n",
    "      </tr>\n",
    "    </table>\n",
    "\n",
    "    <br>\n",
    "\n",
    "    <table>\n",
    "      <tr>\n",
    "        <th>Indicador</th>\n",
    "        <th>Valor Ano</th>\n",
    "        <th>Meta Ano</th>\n",
    "        <th>Cenário Ano</th>\n",
    "      </tr>\n",
    "      <tr>\n",
    "        <td>Faturamento</td>\n",
    "        <td style=\"text-align: center\">R${revenue_year:.2f}</td>\n",
    "        <td style=\"text-align: center\">R${revenue_target_year:.2f}</td>\n",
    "        <td style=\"text-align: center\"><font color={revenue_year_color}>◙</font></td>\n",
    "      </tr>\n",
    "      <tr>\n",
    "        <td>Diversidade dos Produtos</td>\n",
    "        <td style=\"text-align: center\">{product_amount_year}</td>\n",
    "        <td style=\"text-align: center\">{product_target_year}</td>\n",
    "        <td style=\"text-align: center\"><font color={amount_year_color}>◙</font></td>\n",
    "      </tr>\n",
    "      <tr>\n",
    "        <td>Ticket Médio</td>\n",
    "        <td style=\"text-align: center\">R${average_ticket_year:.2f}</td>\n",
    "        <td style=\"text-align: center\">R${average_ticket_target_year:.2f}</td>\n",
    "        <td style=\"text-align: center\"><font color={ticket_year_color}>◙</font></td>\n",
    "      </tr>\n",
    "    </table>\n",
    "\n",
    "    <p>Segue em anexo a planilha com todos os dados para mais detalhes.</p>\n",
    "\n",
    "    <p>Qualquer dúvida estou a disposição.</p>\n",
    "\n",
    "    <p>Att, Kauan.</p>\n",
    "\n",
    "\n",
    "    '''\n",
    "\n",
    "    #include attachment\n",
    "    attachment = pathlib.Path.cwd() / backup_path / store / f'{indicator_day.month}_{indicator_day.day}_{store}.xlsx'\n",
    "    mail.Attachments.Add(str(attachment))\n",
    "\n",
    "    mail.Send()\n",
    "    print(f\"O E-mail da loja {store} foi enviado com sucesso.\")"
   ]
  },
  {
   "cell_type": "markdown",
   "metadata": {},
   "source": [
    "### Step 5 - Create a DataFrame ranking for the board"
   ]
  },
  {
   "cell_type": "code",
   "execution_count": 10,
   "metadata": {
    "scrolled": true
   },
   "outputs": [],
   "source": [
    "#create a year dataframe\n",
    "revenue_stores_year = sales.groupby('Loja')[[ 'Valor Final']].sum()\n",
    "revenue_stores_year = revenue_stores_year.sort_values(by='Valor Final', ascending=False)\n",
    "\n",
    "#create a backup dataframe in our backup folder\n",
    "file_name = f\"{indicator_day.month}_{indicator_day.day}_Ranking Anual.xlsx\"\n",
    "revenue_stores_year.to_excel(r'backup\\{}'.format(file_name))\n",
    "\n",
    "#create a day dataframe\n",
    "sales_day = sales.loc[sales[\"Data\"]==indicator_day, :]\n",
    "revenue_stores_day = sales_day.groupby('Loja')[['Valor Final']].sum()\n",
    "revenue_stores_day = revenue_stores_day.sort_values(by='Valor Final', ascending=False)\n",
    "\n",
    "#create a backup dataframe in our backup folder\n",
    "file_name = f\"{indicator_day.month}_{indicator_day.day}_Ranking Dia.xlsx\"\n",
    "revenue_stores_day.to_excel(r'backup\\{}'.format(file_name))"
   ]
  },
  {
   "cell_type": "markdown",
   "metadata": {},
   "source": [
    "### Step 6 - Send email to management"
   ]
  },
  {
   "cell_type": "code",
   "execution_count": 11,
   "metadata": {},
   "outputs": [
    {
     "name": "stdout",
     "output_type": "stream",
     "text": [
      "E-mail da Diretoria enviado\n"
     ]
    }
   ],
   "source": [
    "#send the email\n",
    "outlook = win32.Dispatch('outlook.application')\n",
    "\n",
    "mail = outlook.CreateItem(0)\n",
    "mail.To = emails.loc[emails['Loja']=='Diretoria', 'E-mail'].values[0]\n",
    "mail.Subject = f'Ranking Dia {indicator_day.day}/{indicator_day.month}'\n",
    "mail.Body = f'''\n",
    "Prezados, bom dia!\n",
    "\n",
    "Melhor loja do Dia em Faturamento: Loja {revenue_stores_day.index[0]} com Faturamento R${revenue_stores_day.iloc[0, 0]:.2f}\n",
    "Pior loja do Dia em Faturamento: Loja {revenue_stores_day.index[-1]} com Faturamento R${revenue_stores_day.iloc[-1, 0]:.2f}\n",
    "\n",
    "Melhor loja do Ano em Faturamento: Loja {revenue_stores_year.index[0]} com Faturamento R${revenue_stores_year.iloc[0, 0]:.2f}\n",
    "Pior loja do Ano em Faturamento: Loja {revenue_stores_year.index[-1]} com Faturamento R${revenue_stores_year.iloc[-1, 0]:.2f}\n",
    "\n",
    "Segue em anexo os rankings do ano e do dia de todas as lojas.\n",
    "\n",
    "Qualquer dúvida estou à disposição.\n",
    "\n",
    "Att.,\n",
    "Kauan.\n",
    "'''\n",
    "\n",
    "# Attachment:\n",
    "attachment  = pathlib.Path.cwd() / backup_path / f'{indicator_day.month}_{indicator_day.day}_Ranking Anual.xlsx'\n",
    "mail.Attachments.Add(str(attachment))\n",
    "attachment  = pathlib.Path.cwd() / backup_path / f'{indicator_day.month}_{indicator_day.day}_Ranking Dia.xlsx'\n",
    "mail.Attachments.Add(str(attachment))\n",
    "\n",
    "\n",
    "mail.Send()\n",
    "print('E-mail da Diretoria enviado')"
   ]
  },
  {
   "cell_type": "code",
   "execution_count": null,
   "metadata": {},
   "outputs": [],
   "source": []
  }
 ],
 "metadata": {
  "kernelspec": {
   "display_name": "Python 3 (ipykernel)",
   "language": "python",
   "name": "python3"
  },
  "language_info": {
   "codemirror_mode": {
    "name": "ipython",
    "version": 3
   },
   "file_extension": ".py",
   "mimetype": "text/x-python",
   "name": "python",
   "nbconvert_exporter": "python",
   "pygments_lexer": "ipython3",
   "version": "3.12.1"
  }
 },
 "nbformat": 4,
 "nbformat_minor": 4
}
