{
 "cells": [
  {
   "cell_type": "markdown",
   "metadata": {},
   "source": [
    "# Automation of Indicators\n",
    "\n",
    "### Objective: \n",
    "Train and create a Complete Project involving the automation of a process done on the computer.\n",
    "\n",
    "### Description:\n",
    "\n",
    "Imagine that you work in a large clothing store chain with 25 stores spread across Brazil.\n",
    "\n",
    "Every morning, the data analysis team calculates the so-called One Pages and sends the OnePage of each store to the respective manager, along with all the information used in the calculation of the indicators.\n",
    "\n",
    "A One Page is a very simple and straightforward summary used by store management to know the key indicators of each store, allowing for a comparison between different stores and showing which indicators the store achieved that day or not, all in just one page (hence the name OnePage)."
   ]
  },
  {
   "cell_type": "markdown",
   "metadata": {},
   "source": [
    "Your role as a Data Analyst is to create a process that is as automated as possible to calculate the OnePage for each store and send an email to the manager of each store with their OnePage in the body of the email, along with the complete file containing the data for their respective store attached.\n",
    "\n",
    "Example: The email to be sent to the Manager of Store A should look like the example below."
   ]
  },
  {
   "cell_type": "markdown",
   "metadata": {},
   "source": [
    "![exemplo_email](Exemplo.JPG)"
   ]
  },
  {
   "cell_type": "markdown",
   "metadata": {},
   "source": [
    "### Files and Important Information\n",
    "\n",
    "- File `Emails.xlsx` with the name, store, and email of each manager. Note: I suggest replacing each manager's email column with your own email so you can test the result.\n",
    "\n",
    "- File `Vendas.xlsx` with sales data for all stores. Note: Each manager should only receive the OnePage and an Excel file with sales data for their store attached. Information from other stores should not be sent to managers who are not from those stores.\n",
    "\n",
    "- File `Lojas.csv` with the name of each store.\n",
    "\n",
    "- At the end, your routine should also send an email to the management team (information is also in the `Emails.xlsx` file) with two rankings of the stores attached, one for the day and one for the year. Additionally, the email body should highlight the best and worst store of the day and the best and worst store of the year. The store ranking is based on the store's revenue.\n",
    "\n",
    "- The spreadsheets for each store should be saved within the store's folder, using the date of the spreadsheet to create a backup history.\n",
    "\n",
    "### OnePage Indicators\n",
    "\n",
    "- Revenue -> Year Goal: 1,650,000 / Daily Goal: 1,000\n",
    "- Product Diversity (how many different products were sold during that period) -> Year Goal: 120 / Daily Goal: 4\n",
    "- Average Ticket per Sale -> Year Goal: 500 / Daily Goal: 500\n",
    "\n",
    "Note: Each indicator should be calculated for both the day and the year. The daily indicator should reflect the most recent available date in the `Vendas` spreadsheet.\n",
    "\n",
    "Note 2: Tip for the green and red symbol character: get the character from this website (https://fsymbols.com/keyboard/windows/alt-codes/list/) and format it using HTML.\n"
   ]
  },
  {
   "cell_type": "code",
   "execution_count": null,
   "metadata": {},
   "outputs": [],
   "source": []
  }
 ],
 "metadata": {
  "kernelspec": {
   "display_name": "Python 3 (ipykernel)",
   "language": "python",
   "name": "python3"
  },
  "language_info": {
   "codemirror_mode": {
    "name": "ipython",
    "version": 3
   },
   "file_extension": ".py",
   "mimetype": "text/x-python",
   "name": "python",
   "nbconvert_exporter": "python",
   "pygments_lexer": "ipython3",
   "version": "3.12.1"
  }
 },
 "nbformat": 4,
 "nbformat_minor": 4
}
